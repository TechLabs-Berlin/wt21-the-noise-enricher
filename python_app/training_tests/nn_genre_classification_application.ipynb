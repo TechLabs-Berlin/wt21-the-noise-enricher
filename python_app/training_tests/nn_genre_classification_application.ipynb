{
 "cells": [
  {
   "cell_type": "code",
   "execution_count": 67,
   "metadata": {},
   "outputs": [],
   "source": [
    "import torch\n",
    "import torchaudio\n",
    "import os\n",
    "import numpy as np\n",
    "import pandas as pd\n",
    "from torch import nn\n",
    "from pydub import AudioSegment"
   ]
  },
  {
   "cell_type": "code",
   "execution_count": 70,
   "metadata": {},
   "outputs": [
    {
     "name": "stdout",
     "output_type": "stream",
     "text": [
      "running on cpu\n"
     ]
    }
   ],
   "source": [
    "if torch.cuda.is_available():  \n",
    "  device = torch.device('cuda:0')\n",
    "else:  \n",
    "  device = torch.device('cpu')\n",
    "print('running on', device)"
   ]
  },
  {
   "cell_type": "code",
   "execution_count": 71,
   "metadata": {},
   "outputs": [],
   "source": [
    "class CNN(nn.Module):\n",
    "    def __init__(self):\n",
    "        super(CNN, self).__init__()\n",
    "\n",
    "        self.cnn_layers = nn.Sequential(\n",
    "            nn.Conv2d(1, 16, kernel_size=7, stride=1),   # 252, 252, 16\n",
    "            #in-channel, out, filter size, stride\n",
    "            nn.Tanh(),\n",
    "            #activate function\n",
    "            nn.MaxPool2d(2),      # 126, 126, 16\n",
    "            #poolsize \n",
    "            \n",
    "            nn.Conv2d(16, 32, kernel_size=5, stride=1),  # 122, 122, 32\n",
    "            nn.Tanh(),\n",
    "            nn.MaxPool2d(2),      # 61, 61, 32\n",
    "            \n",
    "            nn.Conv2d(32, 64, kernel_size=6, stride=1), # 56, 56, 64\n",
    "            nn.Tanh(),\n",
    "            nn.MaxPool2d(2),      # 28, 28, 64\n",
    "            \n",
    "            nn.Conv2d(64, 128, kernel_size=5, stride=1), # 24, 24, 128\n",
    "            nn.Tanh(),\n",
    "            nn.MaxPool2d(2),       # 12, 12, 128\n",
    "            \n",
    "            nn.Flatten()\n",
    "            #one column\n",
    "        )\n",
    "\n",
    "        self.linear_layers = nn.Sequential(\n",
    "            nn.Linear(12*12*128, 2048),\n",
    "            nn.Linear(2048, 10)\n",
    "        )\n",
    "\n",
    "    def forward(self, x):\n",
    "        x = self.cnn_layers(x)\n",
    "        x = x.view(x.size(0), -1)\n",
    "        x = self.linear_layers(x)\n",
    "        return x"
   ]
  },
  {
   "cell_type": "code",
   "execution_count": 107,
   "metadata": {},
   "outputs": [],
   "source": [
    "path_model = 'models/nn_classifier.pth'\n",
    "path_audio = 'test_sounds/rahu.wav'\n",
    "model = torch.load(path_model, map_location=device)"
   ]
  },
  {
   "cell_type": "code",
   "execution_count": 108,
   "metadata": {},
   "outputs": [],
   "source": [
    "\n",
    "genres = ['disco','metal','blues','jazz','country','hiphop','rock','classical','pop','reggae']"
   ]
  },
  {
   "cell_type": "code",
   "execution_count": 109,
   "metadata": {},
   "outputs": [],
   "source": [
    "# INPUT AUDIO PREPARATIONS\n",
    "\n",
    "input_audio = AudioSegment.from_wav(path_audio)\n",
    "\n",
    "# transformation to mono, downsampling\n",
    "input_audio = input_audio.set_channels(1)\n",
    "input_audio = input_audio.set_frame_rate(22050)\n",
    "\n",
    "# splitting into chunks of 3 seconds for processing in NN\n",
    "n_chunks = len(input_audio)//3000\n",
    "\n",
    "for i in range(n_chunks-1):\n",
    "    input_audio[(i*3000): ((i+1)*3000)].export('temp_audio_files/file{}.wav'.format(i), format='wav')"
   ]
  },
  {
   "cell_type": "code",
   "execution_count": 110,
   "metadata": {},
   "outputs": [],
   "source": [
    "# GENERATING SPECTROGRAMS\n",
    "# +++ NOTICE THAT THE FFT MUST BE THE SAME AS FOR THE TRAINING DATA SET (515) TO GET THE SAME TENSOR DIMENSION +++\n",
    "\n",
    "spectrograms = []\n",
    "\n",
    "for i in range(n_chunks-1):\n",
    "    wf, sr = torchaudio.load('temp_audio_files/file{}.wav'.format(i))\n",
    "    spec = torchaudio.transforms.Spectrogram(n_fft=515, power=None, return_complex=True)(wf)\n",
    "    spectrograms.append(spec)"
   ]
  },
  {
   "cell_type": "code",
   "execution_count": 111,
   "metadata": {},
   "outputs": [],
   "source": [
    "# create empty complex tensor and fill it with spectrograms of input audio\n",
    "x = torch.empty((len(spectrograms), 1, 258, 258), dtype=torch.complex64)\n",
    "\n",
    "# fill tensor with spectrograms of input audio\n",
    "for i, s in enumerate(spectrograms): x[i] = s\n",
    "\n",
    "# analyse the tensor with neural network\n",
    "with torch.no_grad():\n",
    "    result = model(x.real)\n",
    "    result = nn.Softmax(dim=1)(result)\n",
    "    result = result.detach().numpy()\n",
    "\n",
    "# export .csv file with percentages of music genre\n",
    "table = []\n",
    "for i, j in enumerate(genres):\n",
    "    table.append([j, round((np.mean(result[:, i])*100), 2)])\n",
    "pd.DataFrame(table).to_csv('result.csv', index=False, header=False)"
   ]
  },
  {
   "cell_type": "code",
   "execution_count": 112,
   "metadata": {},
   "outputs": [],
   "source": [
    "# remove audio file chunks\n",
    "files_to_remove = os.listdir('temp_audio_files')\n",
    "for f in files_to_remove:os.remove(str('temp_audio_files/{}'.format(f)))"
   ]
  }
 ],
 "metadata": {
  "interpreter": {
   "hash": "d7e5a1f785ed82844e2da5d30522181462e1597dbd1807cbc4c5c0cc1d5a2e0b"
  },
  "kernelspec": {
   "display_name": "Python 3.9.7 64-bit ('base': conda)",
   "language": "python",
   "name": "python3"
  },
  "language_info": {
   "codemirror_mode": {
    "name": "ipython",
    "version": 3
   },
   "file_extension": ".py",
   "mimetype": "text/x-python",
   "name": "python",
   "nbconvert_exporter": "python",
   "pygments_lexer": "ipython3",
   "version": "3.9.7"
  },
  "orig_nbformat": 4
 },
 "nbformat": 4,
 "nbformat_minor": 2
}
