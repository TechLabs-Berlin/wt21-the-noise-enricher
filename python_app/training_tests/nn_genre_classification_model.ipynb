{
  "cells": [
    {
      "cell_type": "markdown",
      "metadata": {
        "id": "jxrcaQiBsutv"
      },
      "source": [
        "# music genre classification"
      ]
    },
    {
      "cell_type": "code",
      "execution_count": null,
      "metadata": {
        "colab": {
          "base_uri": "https://localhost:8080/"
        },
        "id": "W9mwHhdysut0",
        "outputId": "18695243-7cb1-4120-fdc4-4d20987c992d"
      },
      "outputs": [
        {
          "output_type": "stream",
          "name": "stdout",
          "text": [
            "Mounted at /content/drive\n",
            "device: cuda\n"
          ]
        }
      ],
      "source": [
        "import os\n",
        "import pandas as pd\n",
        "import numpy as np\n",
        "import h5py\n",
        "import torch\n",
        "from torch import nn\n",
        "from torch.utils.data import Dataset, DataLoader\n",
        "\n",
        "from google.colab import drive\n",
        "drive.mount('/content/drive')\n",
        "\n",
        "device = torch.device('cuda' if torch.cuda.is_available() else 'cpu')\n",
        "print(f'device: {device}')"
      ]
    },
    {
      "cell_type": "code",
      "source": [
        "spectrograms_path = '/content/drive/MyDrive/sound_classifier/dataset.zip'\n",
        "\n",
        "!cp '{spectrograms_path}' .\n",
        "!unzip -q dataset.zip"
      ],
      "metadata": {
        "id": "zXd3QO0cs_SJ"
      },
      "execution_count": null,
      "outputs": []
    },
    {
      "cell_type": "markdown",
      "metadata": {
        "id": "cYdFedoMsut3"
      },
      "source": [
        "## dataset & data loader"
      ]
    },
    {
      "cell_type": "code",
      "execution_count": null,
      "metadata": {
        "id": "cuaJInUIsut4"
      },
      "outputs": [],
      "source": [
        "# dataset\n",
        "class GTZAN_Dataset(Dataset):\n",
        "    def __init__(self, dataset, dir, transform=None, target_transform=None):\n",
        "        self.labels = pd.read_csv(dataset, dtype={'file':str, 'category':int})\n",
        "        self.dir = dir\n",
        "        self.transform = transform\n",
        "        self.target_transform = target_transform\n",
        "    \n",
        "    def __len__(self):\n",
        "        return len(self.labels)\n",
        "    \n",
        "    def split_complex_numbers(self, x):\n",
        "      y = torch.empty((2, 258, 258))\n",
        "      y[0], y[1] = x[0].real, x[0].imag\n",
        "      return y\n",
        "\n",
        "    def __getitem__(self, idx):\n",
        "        filepath = os.path.join(self.dir, self.labels.iloc[idx,0])\n",
        "        spec = torch.load(filepath)\n",
        "        label = self.labels.iloc[idx,1]\n",
        "        \n",
        "        if self.transform:\n",
        "            spec = self.split_complex_numbers(spec)\n",
        "        if self.target_transform:\n",
        "            label = self.target_transform(label)\n",
        "        \n",
        "        return spec, label\n",
        "\n",
        "\n",
        "# data loader\n",
        "root_path = '/content'\n",
        "gtzan_trn = GTZAN_Dataset('dataset_files_train.csv', root_path, transform=True)\n",
        "gtzan_tst  = GTZAN_Dataset('dataset_files_test.csv', root_path, transform=True)\n",
        "trn_dataloader = DataLoader(gtzan_trn, batch_size=64, shuffle=True)\n",
        "tst_dataloader = DataLoader(gtzan_tst, batch_size=64, shuffle=True)"
      ]
    },
    {
      "cell_type": "markdown",
      "metadata": {
        "id": "jKyxbnyBsut7"
      },
      "source": [
        "## model"
      ]
    },
    {
      "cell_type": "code",
      "execution_count": null,
      "metadata": {
        "id": "Lxmjlsh8sut8"
      },
      "outputs": [],
      "source": [
        "class CNN(nn.Module):\n",
        "    def __init__(self):\n",
        "        super(CNN, self).__init__()\n",
        "\n",
        "        self.cnn_layers = nn.Sequential(\n",
        "            nn.Conv2d(2, 16, kernel_size=7, stride=1),   # 252, 252, 16\n",
        "            #in-channel, out, filter size, stride\n",
        "            nn.Tanh(),\n",
        "            #activate function\n",
        "            nn.MaxPool2d(2),      # 126, 126, 16\n",
        "            #poolsize \n",
        "            \n",
        "            nn.Conv2d(16, 32, kernel_size=5, stride=1),  # 122, 122, 32\n",
        "            nn.Tanh(),\n",
        "            nn.MaxPool2d(2),      # 61, 61, 32\n",
        "            \n",
        "            nn.Conv2d(32, 64, kernel_size=6, stride=1), # 56, 56, 64\n",
        "            nn.Tanh(),\n",
        "            nn.MaxPool2d(2),      # 28, 28, 64\n",
        "            \n",
        "            nn.Conv2d(64, 128, kernel_size=5, stride=1), # 24, 24, 128\n",
        "            nn.Tanh(),\n",
        "            nn.MaxPool2d(2),       # 12, 12, 128\n",
        "            \n",
        "            nn.Flatten()\n",
        "            #one column\n",
        "        )\n",
        "\n",
        "        self.linear_layers = nn.Sequential(\n",
        "            nn.Linear(12*12*128, 2048),\n",
        "            nn.Linear(2048, 10)\n",
        "        )\n",
        "\n",
        "    def forward(self, x):\n",
        "        x = self.cnn_layers(x)\n",
        "        x = x.view(x.size(0), -1)\n",
        "        x = self.linear_layers(x)\n",
        "        return x"
      ]
    },
    {
      "cell_type": "code",
      "execution_count": null,
      "metadata": {
        "colab": {
          "base_uri": "https://localhost:8080/"
        },
        "id": "raLM61Nisut9",
        "outputId": "cb4f9c2c-b989-440f-cf34-cfa04a94c823"
      },
      "outputs": [
        {
          "output_type": "stream",
          "name": "stdout",
          "text": [
            "CNN(\n",
            "  (cnn_layers): Sequential(\n",
            "    (0): Conv2d(2, 16, kernel_size=(7, 7), stride=(1, 1))\n",
            "    (1): Tanh()\n",
            "    (2): MaxPool2d(kernel_size=2, stride=2, padding=0, dilation=1, ceil_mode=False)\n",
            "    (3): Conv2d(16, 32, kernel_size=(5, 5), stride=(1, 1))\n",
            "    (4): Tanh()\n",
            "    (5): MaxPool2d(kernel_size=2, stride=2, padding=0, dilation=1, ceil_mode=False)\n",
            "    (6): Conv2d(32, 64, kernel_size=(6, 6), stride=(1, 1))\n",
            "    (7): Tanh()\n",
            "    (8): MaxPool2d(kernel_size=2, stride=2, padding=0, dilation=1, ceil_mode=False)\n",
            "    (9): Conv2d(64, 128, kernel_size=(5, 5), stride=(1, 1))\n",
            "    (10): Tanh()\n",
            "    (11): MaxPool2d(kernel_size=2, stride=2, padding=0, dilation=1, ceil_mode=False)\n",
            "    (12): Flatten(start_dim=1, end_dim=-1)\n",
            "  )\n",
            "  (linear_layers): Sequential(\n",
            "    (0): Linear(in_features=18432, out_features=2048, bias=True)\n",
            "    (1): Linear(in_features=2048, out_features=10, bias=True)\n",
            "  )\n",
            ")\n"
          ]
        }
      ],
      "source": [
        "model = CNN()\n",
        "print(model)"
      ]
    },
    {
      "cell_type": "code",
      "execution_count": null,
      "metadata": {
        "id": "L3nFEEW5suuA"
      },
      "outputs": [],
      "source": [
        "learning_rate = 1e-4\n",
        "\n",
        "model = model.to(device)\n",
        "loss_fn = nn.CrossEntropyLoss()\n",
        "optimizer = torch.optim.SGD(model.parameters(), lr=learning_rate)"
      ]
    },
    {
      "cell_type": "code",
      "execution_count": null,
      "metadata": {
        "id": "UBTAO9X6suuB"
      },
      "outputs": [],
      "source": [
        "def train_loop(dataloader, model, loss_fn, optimizer):\n",
        "    size = len(dataloader.dataset)\n",
        "    for batch, (X, y) in enumerate(dataloader):\n",
        "        X, y = X.to(device), y.to(device)\n",
        "        pred = model(X)\n",
        "        loss = loss_fn(pred, y)\n",
        "\n",
        "        optimizer.zero_grad()\n",
        "        loss.backward()\n",
        "        optimizer.step()\n",
        "\n",
        "        if batch % 100 == 0:\n",
        "            loss, current = loss.item(), batch * len(X)\n",
        "            print(f\"loss: {loss:>7f}  [{current:>5d}/{size:>5d}]\")\n",
        "\n",
        "\n",
        "def test_loop(dataloader, model, loss_fn):\n",
        "    size = len(dataloader.dataset)\n",
        "    num_batches = len(dataloader)\n",
        "    test_loss, correct = 0, 0\n",
        "\n",
        "    with torch.no_grad():\n",
        "        for X, y in dataloader:\n",
        "            X, y = X.to(device), y.to(device)\n",
        "            pred = model(X)\n",
        "            test_loss += loss_fn(pred, y).item()\n",
        "            correct += (pred.argmax(1) == y).type(torch.float).sum().item()\n",
        "\n",
        "    test_loss /= num_batches\n",
        "    correct /= size\n",
        "    print(f\"Test Error: \\n Accuracy: {(100*correct):>0.1f}%, Avg loss: {test_loss:>8f} \\n\")"
      ]
    },
    {
      "cell_type": "code",
      "execution_count": null,
      "metadata": {
        "id": "lD6aV8NksuuC"
      },
      "outputs": [],
      "source": [
        "for t in range(300):\n",
        "    print(f\"Epoch {t+1}\\n-------------------------------\")\n",
        "    train_loop(trn_dataloader, model, loss_fn, optimizer)\n",
        "    test_loop(tst_dataloader, model, loss_fn)\n",
        "print(\"Done!\")"
      ]
    },
    {
      "cell_type": "code",
      "execution_count": null,
      "metadata": {
        "id": "6Itwlc76suuD"
      },
      "outputs": [],
      "source": [
        "torch.save(model.state_dict(), 'drive/MyDrive/sound_classifier/nn_classifier_statedict.pt')\n",
        "torch.save(model, 'drive/MyDrive/sound_classifier/nn_classifier_full.pt')"
      ]
    },
    {
      "cell_type": "code",
      "source": [
        ""
      ],
      "metadata": {
        "id": "bZKIOaqVJ6jo"
      },
      "execution_count": null,
      "outputs": []
    }
  ],
  "metadata": {
    "interpreter": {
      "hash": "d7e5a1f785ed82844e2da5d30522181462e1597dbd1807cbc4c5c0cc1d5a2e0b"
    },
    "kernelspec": {
      "display_name": "Python 3.9.7 64-bit ('base': conda)",
      "language": "python",
      "name": "python3"
    },
    "language_info": {
      "codemirror_mode": {
        "name": "ipython",
        "version": 3
      },
      "file_extension": ".py",
      "mimetype": "text/x-python",
      "name": "python",
      "nbconvert_exporter": "python",
      "pygments_lexer": "ipython3",
      "version": "3.9.7"
    },
    "orig_nbformat": 4,
    "colab": {
      "name": "nn_genre_classification_model.ipynb",
      "provenance": [],
      "collapsed_sections": []
    },
    "accelerator": "GPU"
  },
  "nbformat": 4,
  "nbformat_minor": 0
}